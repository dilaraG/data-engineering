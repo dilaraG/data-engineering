{
 "cells": [
  {
   "cell_type": "code",
   "execution_count": 20,
   "metadata": {},
   "outputs": [],
   "source": [
    "import requests\n",
    "from bs4 import BeautifulSoup\n",
    "import time\n",
    "import pandas as pd\n",
    "import random"
   ]
  },
  {
   "cell_type": "code",
   "execution_count": 90,
   "metadata": {},
   "outputs": [],
   "source": [
    "# Заголовки, чтобы сделать запрос более \"человеческим\"\n",
    "headers = {\n",
    "       \"User-Agent\": \"Mozilla/5.0 (Windows NT 10.0; Win64; x64) AppleWebKit/537.36 (KHTML, like Gecko) Chrome/58.0.3029.110 Safari/537.3\",\n",
    "       \"Accept-Language\": \"en-US,en;q=0.5\",\n",
    "       \"Referer\": \"https://google.ru/\",\n",
    "   }\n",
    "\n",
    "# base_url = \"https://www.tripadvisor.ru/Attractions-g293974-Activities-c47-t17-Istanbul.html\"\n",
    "# base_url = 'https://www.tripadvisor.ru/Attractions-g293974-Activities-c26-t142-Istanbul.html'\n",
    "# base_url = 'https://www.tripadvisor.ru/Attractions-g293974-Activities-c26-t143-Istanbul.html'\n",
    "# base_url = 'https://www.tripadvisor.ru/Attractions-g293974-Activities-c57-t70-Istanbul.html'\n",
    "# base_url = 'https://www.tripadvisor.ru/Attractions-g293974-Activities-c52-t98-Istanbul.html'\n",
    "# base_url = 'https://www.tripadvisor.ru/Attractions-g293974-Activities-c57-t119-Istanbul.html'\n",
    "# base_url = 'https://www.tripadvisor.ru/Attractions-g293974-Activities-c47-t34-Istanbul.html'\n",
    "# base_url = 'https://www.tripadvisor.ru/Attractions-g293974-Activities-c47-t163-Istanbul.html'\n",
    "# base_url = 'https://www.tripadvisor.ru/Attractions-g293974-Activities-c49-t161-Istanbul.html'\n",
    "base_url = 'https://www.tripadvisor.ru/Attractions-g293974-Activities-c61-t134-Istanbul.html'"
   ]
  },
  {
   "cell_type": "code",
   "execution_count": 10,
   "metadata": {},
   "outputs": [],
   "source": [
    "# response2 = requests.get('https://www.tripadvisor.ru/Attraction_Review-g293974-d19852123-Reviews-Narmanli_Han-Istanbul.html', headers=headers)\n",
    "# soup2 = BeautifulSoup(response2.text, 'lxml')\n"
   ]
  },
  {
   "cell_type": "code",
   "execution_count": 11,
   "metadata": {},
   "outputs": [
    {
     "data": {
      "text/plain": [
       "'Narmanli Han'"
      ]
     },
     "execution_count": 11,
     "metadata": {},
     "output_type": "execute_result"
    }
   ],
   "source": [
    "# hotels_name = soup2.find('div', class_='f k O Cj Pj PN Pw PA').find_all('span', class_='biGQs _P pZUbB avBIb osNWb')[-1].text.strip()\n",
    "# hotels_name"
   ]
  },
  {
   "cell_type": "code",
   "execution_count": 91,
   "metadata": {},
   "outputs": [],
   "source": [
    "def scrape_hotel_info(url):\n",
    "    response1 = requests.get(url, headers=headers)\n",
    "    if response1.status_code != 200:\n",
    "        print(f\"Ошибка: {response1.status_code}\")\n",
    "        return\n",
    "    \n",
    "    soup1 = BeautifulSoup(response1.text, 'lxml')\n",
    "    dict_hotels = {}\n",
    "    \n",
    "    try:\n",
    "        adress = soup1.find('div', class_='ZhNYD').find('span', class_='biGQs _P XWJSj Wb').text.strip()\n",
    "        dict_hotels['Адрес'] = adress\n",
    "    except:\n",
    "        dict_hotels['Адрес'] = None\n",
    "        \n",
    "    # Находим элементы, содержащие информацию об отелях\n",
    "    hotels_name = soup1.find('div', class_='f k O Cj Pj PN Pw PA').find_all('span', class_='biGQs _P pZUbB avBIb osNWb')[-1].text.replace('\\xa0', ' ').strip()\n",
    "    dict_hotels['Название достопримечательности'] = hotels_name\n",
    "    \n",
    "    try:\n",
    "        marks = soup1.find('div', class_='bdeBj e').find('div', class_='biGQs _P fiohW hzzSG uuBRH').text.strip()\n",
    "        dict_hotels['Общая оценка'] = marks\n",
    "    except:\n",
    "        dict_hotels['Общая оценка'] = None\n",
    "    \n",
    "    try:\n",
    "        reviews = soup1.find('span', class_='biGQs _P pZUbB KxBGd').text.replace('\\xa0','').strip()\n",
    "        dict_hotels['Кол-во отзывов'] = reviews\n",
    "    except:\n",
    "        dict_hotels['Кол-во отзывов'] = None\n",
    "    \n",
    "    try:\n",
    "        type_of_dostoprim = soup1.find('span', class_='eojVo').text.strip()\n",
    "        dict_hotels['Тип достопримечательности'] = type_of_dostoprim\n",
    "    except:\n",
    "        dict_hotels['Тип достопримечательности'] = None\n",
    "\n",
    "    print(dict_hotels)\n",
    "    return dict_hotels    "
   ]
  },
  {
   "cell_type": "code",
   "execution_count": 92,
   "metadata": {},
   "outputs": [],
   "source": [
    "# Функция для извлечения информации о отелях\n",
    "def scrape_hotels(url):\n",
    "    response = requests.get(url, headers=headers)\n",
    "    if response.status_code != 200:\n",
    "        print(f\"Ошибка: {response.status_code}\")\n",
    "        return\n",
    "    \n",
    "    soup = BeautifulSoup(response.text, 'lxml')\n",
    "    \n",
    "    # Находим элементы, содержащие информацию об отелях\n",
    "    hotels = soup.find('div', class_='XmUgu _T Ft MJ').find_all('section', {'class':'mowmC', 'data-automation':'WebPresentation_SingleFlexCardSection'})\n",
    "    # print('hotels from def', hotels)\n",
    "    \n",
    "    counter = 0\n",
    "    dostoprim_list = []\n",
    "    for hotel in hotels:\n",
    "        # if counter>1: break\n",
    "        counter+=1\n",
    "        # print(hotel)\n",
    "        hotel_name = hotel.find('h3').text.strip()\n",
    "        \n",
    "        hotel_link = 'https://www.tripadvisor.ru' + hotel.find('a')['href']\n",
    "        print(f'Достопримечательность: {hotel_name}\\nСсылка: {hotel_link}\\n')\n",
    "        time.sleep(random.randint(10, 20)) # Задержка между запросами\n",
    "        dict_dostoprim = scrape_hotel_info(hotel_link)\n",
    "\n",
    "        dict_dostoprim['Достопримечательность'] = hotel_name\n",
    "        dostoprim_list.append(dict_dostoprim)\n",
    "        \n",
    "    print('counter: ', counter)\n",
    "    return dostoprim_list\n",
    "    "
   ]
  },
  {
   "cell_type": "code",
   "execution_count": 5,
   "metadata": {},
   "outputs": [],
   "source": [
    "# hotel_list1 = scrape_hotels(base_url)"
   ]
  },
  {
   "cell_type": "code",
   "execution_count": 55,
   "metadata": {},
   "outputs": [
    {
     "ename": "NameError",
     "evalue": "name 'hotel_list1' is not defined",
     "output_type": "error",
     "traceback": [
      "\u001b[0;31m---------------------------------------------------------------------------\u001b[0m",
      "\u001b[0;31mNameError\u001b[0m                                 Traceback (most recent call last)",
      "Cell \u001b[0;32mIn[55], line 1\u001b[0m\n\u001b[0;32m----> 1\u001b[0m \u001b[43mhotel_list1\u001b[49m\n",
      "\u001b[0;31mNameError\u001b[0m: name 'hotel_list1' is not defined"
     ]
    }
   ],
   "source": [
    "# hotel_list1"
   ]
  },
  {
   "cell_type": "code",
   "execution_count": 93,
   "metadata": {},
   "outputs": [
    {
     "name": "stdout",
     "output_type": "stream",
     "text": [
      "Достопримечательность: 1. Viasea Akvaryum\n",
      "Ссылка: https://www.tripadvisor.ru/Attraction_Review-g293974-d10051500-Reviews-Viasea_Akvaryum-Istanbul.html\n",
      "\n",
      "{'Адрес': 'Balıkçılar Sokak U Blok 20 D:226 Viaport Marina, Стамбул 34940 Турция', 'Название достопримечательности': 'Viasea Akvaryum', 'Общая оценка': '3.5', 'Кол-во отзывов': '75 отзывов', 'Тип достопримечательности': 'Парки развлечений и\\xa0тематические парки'}\n",
      "Достопримечательность: 2. Faruk Yalçın Zoo\n",
      "Ссылка: https://www.tripadvisor.ru/Attraction_Review-g293974-d548913-Reviews-Faruk_YalcIn_Zoo-Istanbul.html\n",
      "\n",
      "{'Адрес': 'Tuzla Cad. No: 297 Piri Reis Mh, Стамбул 41700 Турция', 'Название достопримечательности': 'Faruk Yalçın Zoo', 'Общая оценка': '3.5', 'Кол-во отзывов': '27 отзывов', 'Тип достопримечательности': 'Зоопарки'}\n",
      "Достопримечательность: 3. Aslan Park\n",
      "Ссылка: https://www.tripadvisor.ru/Attraction_Review-g293974-d19909985-Reviews-Aslan_Park-Istanbul.html\n",
      "\n",
      "{'Адрес': 'Cami Mh., Balikcilar Sk. U Blok No:20 D:U/226 Tuzla, Стамбул 34940 Турция', 'Название достопримечательности': 'Aslan Park', 'Общая оценка': '3.5', 'Кол-во отзывов': '18 отзывов', 'Тип достопримечательности': 'Зоопарки'}\n",
      "Достопримечательность: 4. Polonezköy Hayvanat Bahçesi ve Doğal Yaşam Parkı (Polonezköy Zoo)\n",
      "Ссылка: https://www.tripadvisor.ru/Attraction_Review-g293974-d8693697-Reviews-Polonezkoy_Hayvanat_Bahcesi_ve_Dogal_Yasam_ParkI_Polonezkoy_Zoo-Istanbul.html\n",
      "\n",
      "{'Адрес': '75.Yil Cad. No 58/A Polonezkoy, Стамбул 34829 Турция', 'Название достопримечательности': 'Polonezköy Hayvanat Bahçesi ve Doğal Yaşam Parkı (Polonezköy Zoo)', 'Общая оценка': '3.5', 'Кол-во отзывов': '47 отзывов', 'Тип достопримечательности': 'Зоопарки'}\n",
      "Достопримечательность: 5. Digizoo Mall Of Istanbul\n",
      "Ссылка: https://www.tripadvisor.ru/Attraction_Review-g293974-d28654019-Reviews-Digizoo_Mall_Of_Istanbul-Istanbul.html\n",
      "\n",
      "{'Адрес': 'Посетить веб-сайт', 'Название достопримечательности': 'Digizoo Mall Of Istanbul', 'Общая оценка': None, 'Кол-во отзывов': 'Вторник', 'Тип достопримечательности': 'Зоопарки'}\n",
      "Достопримечательность: 6. Park Of Istanbul\n",
      "Ссылка: https://www.tripadvisor.ru/Attraction_Review-g293974-d17506628-Reviews-Park_Of_Istanbul-Istanbul.html\n",
      "\n",
      "{'Адрес': '30 Agustos Cad, 227. Sk. Catalcesme Mahallesi, Стамбул 34467 Турция', 'Название достопримечательности': 'Park Of Istanbul', 'Общая оценка': '2.0', 'Кол-во отзывов': '35 отзывов', 'Тип достопримечательности': 'Зоопарки'}\n",
      "counter:  6\n",
      "None\n"
     ]
    }
   ],
   "source": [
    "# Переменная для хранения URL страницы\n",
    "dostoprim_list = []\n",
    "current_url = base_url\n",
    "c = 0\n",
    "# Основной цикл для скрапинга данных со всех страниц\n",
    "while current_url:\n",
    "    c+=1\n",
    "    dostoprim_list_i = scrape_hotels(current_url)\n",
    "    \n",
    "    # Заходим на следующую страницу\n",
    "    time.sleep(random.randint(10, 20)) # Задержка между запросами\n",
    "    response = requests.get(current_url, headers=headers)\n",
    "    soup = BeautifulSoup(response.text, 'html.parser')\n",
    "    \n",
    "    # Поиск ссылки на следующую страницу\n",
    "    next_button = soup.find('a', {'class':'BrOJk u j z _F wSSLS tIqAi unMkR', 'aria-label':'Next page'})\n",
    "    print(next_button)\n",
    "    if c==31:\n",
    "        print('second page')\n",
    "        break\n",
    "    if next_button and 'href' in next_button.attrs:\n",
    "        current_url = 'https://www.tripadvisor.ru' + next_button['href']\n",
    "        print(current_url)\n",
    "    else:\n",
    "        current_url = None\n",
    "    \n",
    "    dostoprim_list.append(dostoprim_list_i)\n",
    "    time.sleep(random.randint(3, 15)) # Задержка между запросами "
   ]
  },
  {
   "cell_type": "code",
   "execution_count": 94,
   "metadata": {},
   "outputs": [],
   "source": [
    "# Создание DataFrame из списка списков словарей\n",
    "# Объединяем все внутренние списки в один\n",
    "flattened_dostoprim10 = [item for sublist in dostoprim_list for item in sublist]\n",
    "\n",
    "# Создаем DataFrame\n",
    "df_dostoprim10 = pd.DataFrame(flattened_dostoprim10)"
   ]
  },
  {
   "cell_type": "code",
   "execution_count": null,
   "metadata": {},
   "outputs": [],
   "source": [
    "df_dostoprim_itog = pd.concat([df_dostoprim_itog, df_dostoprim10], ignore_index=True)"
   ]
  },
  {
   "cell_type": "code",
   "execution_count": 97,
   "metadata": {},
   "outputs": [],
   "source": [
    "df_dostoprim_itog.to_csv('dostoprim_info.csv')"
   ]
  },
  {
   "cell_type": "code",
   "execution_count": null,
   "metadata": {},
   "outputs": [],
   "source": []
  }
 ],
 "metadata": {
  "kernelspec": {
   "display_name": "Python 3",
   "language": "python",
   "name": "python3"
  },
  "language_info": {
   "codemirror_mode": {
    "name": "ipython",
    "version": 3
   },
   "file_extension": ".py",
   "mimetype": "text/x-python",
   "name": "python",
   "nbconvert_exporter": "python",
   "pygments_lexer": "ipython3",
   "version": "3.11.4"
  }
 },
 "nbformat": 4,
 "nbformat_minor": 2
}
